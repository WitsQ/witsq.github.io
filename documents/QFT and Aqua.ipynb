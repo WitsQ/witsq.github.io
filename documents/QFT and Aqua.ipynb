{
 "cells": [
  {
   "cell_type": "markdown",
   "metadata": {},
   "source": [
    "![](https://witsq.github.io/images/banner.png)"
   ]
  },
  {
   "cell_type": "markdown",
   "metadata": {},
   "source": [
    "# Quantum Fourier Estimation using Qiskit Aqua\n",
    "_Conrad Haupt, WitsQ Team_\n",
    "\n",
    "Based on the Qiskit Textbook\n",
    "\n",
    "$\\newcommand{\\ket}[1]{\\left|\\,{#1}\\right\\rangle}$\n",
    "$\\newcommand{\\bra}[1]{\\left\\langle\\,{#1}\\right|}$\n",
    "$\\newcommand{\\abs}[1]{\\left|{#1}\\right|}$"
   ]
  },
  {
   "cell_type": "code",
   "execution_count": null,
   "metadata": {},
   "outputs": [],
   "source": [
    "import matplotlib.pyplot as plt\n",
    "%matplotlib inline\n",
    "import numpy as np\n",
    "\n",
    "from qiskit import IBMQ, BasicAer,aqua\n",
    "from qiskit import QuantumCircuit, ClassicalRegister, QuantumRegister, execute\n",
    "from qiskit.tools.visualization import plot_histogram\n",
    "from qiskit.aqua.components import qfts,iqfts"
   ]
  },
  {
   "cell_type": "markdown",
   "metadata": {},
   "source": [
    "# QFT vs DFT"
   ]
  },
  {
   "cell_type": "markdown",
   "metadata": {},
   "source": [
    "In classical computing, we typically want to calculate the Discrete Fourier Transform (DFT) of some time-series data to see which frequency components are present. This is represented as:\n",
    "\n",
    "<center>\n",
    "$y_k = \\frac{1}{\\sqrt{N}}\\Sigma_{j=0}^{N-1}{\\left(x_j\\omega_N^{jk}\\right)}$\n",
    "</center>\n",
    "\n",
    "where\n",
    "<center>\n",
    "$\\omega_N^{jk} = e^{2\\pi i\\frac{jk}{N}}$\n",
    "</center>\n",
    "\n",
    "The Quantum Fourier Transform (QFT) is the quantum analog of the DFT and is described as the mapping:\n",
    "\n",
    "<center>\n",
    "$\\ket{x}\\mapsto\\frac{1}{\\sqrt{N}}\\Sigma_{y=0}^{N-1}{\\left(\\omega_N^{xy}\\ket{y}\\right)}$\n",
    "</center>"
   ]
  },
  {
   "cell_type": "markdown",
   "metadata": {},
   "source": [
    "# Getting a pre-built QFT circuit from Aqua"
   ]
  },
  {
   "cell_type": "code",
   "execution_count": null,
   "metadata": {},
   "outputs": [],
   "source": [
    "# Let's get a circuit representing the Inverse Quantum Fourier Transform\n",
    "\n",
    "# Create a circuit with 4 qubits and 4 bits\n",
    "qr_qft = QuantumRegister(4)\n",
    "cr_qft = ClassicalRegister(4)\n",
    "circ_qft = QuantumCircuit(qr_qft,cr_qft)\n",
    "\n",
    "# To add a QFT sub-circuit, we need to construct it onto our\n",
    "# circuit in a similar way to how we appended a sub-circuit\n",
    "# in the previous lab\n",
    "qft_builder = qfts.Standard(4)\n",
    "qft_builder.construct_circuit(\n",
    "    circuit=circ_qft, # The circuit on which we will add our QFT circuit\n",
    "    qubits=qr_qft     # The qubits on which to apply the QFT circuit\n",
    ")\n",
    "circ_qft.draw(output='mpl')"
   ]
  },
  {
   "cell_type": "markdown",
   "metadata": {},
   "source": [
    "# Quantum Phase Estimation"
   ]
  },
  {
   "cell_type": "markdown",
   "metadata": {},
   "source": [
    "## Ex. 1: Use Aqua to construct a QPE estimation circuit"
   ]
  },
  {
   "cell_type": "code",
   "execution_count": null,
   "metadata": {},
   "outputs": [],
   "source": [
    "######################\n",
    "# Put your code here #\n",
    "######################"
   ]
  },
  {
   "cell_type": "markdown",
   "metadata": {},
   "source": [
    "# Simulate QFT"
   ]
  },
  {
   "cell_type": "code",
   "execution_count": null,
   "metadata": {},
   "outputs": [],
   "source": [
    "device = BasicAer.get_backend('qasm_simulator')\n",
    "results = execute(circ_qft,backend=device)\n",
    "plot_histogram(results.get_result().get_counts())"
   ]
  }
 ],
 "metadata": {
  "kernelspec": {
   "display_name": "Python 3",
   "language": "python",
   "name": "python3"
  },
  "language_info": {
   "codemirror_mode": {
    "name": "ipython",
    "version": 3
   },
   "file_extension": ".py",
   "mimetype": "text/x-python",
   "name": "python",
   "nbconvert_exporter": "python",
   "pygments_lexer": "ipython3",
   "version": "3.7.4"
  }
 },
 "nbformat": 4,
 "nbformat_minor": 2
}
